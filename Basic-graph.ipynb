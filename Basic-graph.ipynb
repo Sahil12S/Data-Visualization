{
 "cells": [
  {
   "cell_type": "code",
   "execution_count": 1,
   "metadata": {},
   "outputs": [],
   "source": [
    "# Importing libraries\n",
    "from bokeh.plotting import figure, output_file, show\n",
    "# Working with CSV files\n",
    "import pandas"
   ]
  },
  {
   "cell_type": "code",
   "execution_count": 2,
   "metadata": {},
   "outputs": [],
   "source": [
    "# Prepare some data\n",
    "x = [3,7.5,10]\n",
    "y = [3,6,9]\n",
    "\n",
    "# Create output file\n",
    "output_file(\"line.html\")\n",
    "\n",
    "# Create a figure object\n",
    "f = figure()\n",
    "\n",
    "# Create a line plot\n",
    "# f.triangle(x, y)\n",
    "f.circle(x, y)\n",
    "\n",
    "# Write plot in figure object\n",
    "show(f)"
   ]
  },
  {
   "cell_type": "code",
   "execution_count": 3,
   "metadata": {},
   "outputs": [],
   "source": [
    "# Prepare data\n",
    "df = pandas.read_csv(\"data.csv\")\n",
    "x = df[\"x\"]\n",
    "y = df[\"y\"]\n",
    "\n",
    "# Create output file\n",
    "output_file(\"line2.html\")\n",
    "\n",
    "# Create a figure object\n",
    "f = figure()\n",
    "\n",
    "# Create a line plot\n",
    "f.line(x, y)\n",
    "\n",
    "# Write plot in figure object\n",
    "show(f)"
   ]
  },
  {
   "cell_type": "code",
   "execution_count": 4,
   "metadata": {},
   "outputs": [],
   "source": [
    "df = pandas.read_csv(\"bachelors.csv\")\n",
    "x = df[\"Year\"]\n",
    "y = df[\"Engineering\"]\n",
    "\n",
    "output_file(\"bachelors_plot.html\")\n",
    "f = figure()\n",
    "f.line(x, y)\n",
    "show(f)"
   ]
  },
  {
   "cell_type": "code",
   "execution_count": 5,
   "metadata": {},
   "outputs": [],
   "source": [
    "# Changing properties\n",
    "\n",
    "p=figure(plot_width=500,plot_height=400, tools='pan')\n",
    "\n",
    "p.title.text=\"Cool Data\"\n",
    "p.title.text_color=\"Gray\"\n",
    "p.title.text_font=\"times\"\n",
    "p.title.text_font_style=\"bold\"\n",
    "p.xaxis.minor_tick_line_color=None\n",
    "p.yaxis.minor_tick_line_color=None\n",
    "p.xaxis.axis_label=\"Date\"\n",
    "p.yaxis.axis_label=\"Intensity\"    \n",
    " \n",
    "p.line([1,2,3],[4,5,6])\n",
    "output_file(\"graph.html\")\n",
    "show(p)"
   ]
  },
  {
   "cell_type": "code",
   "execution_count": 6,
   "metadata": {},
   "outputs": [],
   "source": [
    "# Working with excel file\n",
    "df = pandas.read_excel(\"verlegenhuken.xlsx\")\n",
    "df[\"Temperature\"] = df[\"Temperature\"] / 10\n",
    "df[\"Pressure\"] = df[\"Pressure\"] / 10\n",
    "\n",
    "p=figure(plot_width=500,plot_height=400, tools='pan')\n",
    "\n",
    "p.title.text = \"Temperature and Air Pressure\"\n",
    "p.title.text_color = \"Gray\"\n",
    "p.title.text_font = \"times\"\n",
    "p.title.text_font_style = \"bold\"\n",
    "p.xaxis.minor_tick_line_color=\"Orange\"\n",
    "p.yaxis.minor_tick_line_color=None\n",
    "p.xaxis.axis_label=\"Temperature (C)\"\n",
    "p.yaxis.axis_label=\"Pressure (hPa)\"\n",
    "\n",
    "p.circle(df[\"Temperature\"], df[\"Pressure\"], radius=0.03)\n",
    "output_file(\"Weather.html\")\n",
    "show(p)"
   ]
  },
  {
   "cell_type": "markdown",
   "metadata": {},
   "source": [
    "__Plotting time-series graphs__"
   ]
  },
  {
   "cell_type": "code",
   "execution_count": 11,
   "metadata": {},
   "outputs": [],
   "source": [
    "p = figure(plot_width=500, plot_height=400, tools='pan, wheel_zoom')\n",
    "p.title.text = \"Earthquake\"\n",
    "p.title.text_color = \"Orange\"\n",
    "p.title.text_font = \"times\"\n",
    "p.title.text_font_style = \"italic\"\n",
    "p.xaxis.minor_tick_line_color=\"yellow\"\n",
    "p.yaxis.minor_tick_line_color=None\n",
    "p.xaxis.axis_label=\"Times\"\n",
    "p.yaxis.axis_label=\"Value\"\n",
    "\n",
    "# p.circle([1,2,3,4,5],[5,6,5,5,3],size=[i*2 for i in [8,12,14,15,20]], color='red', alpha=0.5)\n",
    "p.line([1,2,3,4,5],[5,6,5,5,3], line_width=2, color='red', alpha=0.5)\n",
    "p.circle([i*2 for i in [1,2,3,4,5]],[5,6,5,5,3], line_width=2, color='olive', alpha=0.5)\n",
    "\n",
    "output_file(\"scatter_plot.html\")\n",
    "show(p)"
   ]
  },
  {
   "cell_type": "code",
   "execution_count": 9,
   "metadata": {},
   "outputs": [],
   "source": [
    "# df = pandas.read_csv(\"adbe.csv\", parse_dates=[\"Date\"])\n",
    "# p = figure(width=900, height=500,x_axis_type=\"datetime\", responsive=True)\n",
    "# p.line(df[\"Date\"], df[\"Close\"], color=\"Orange\", alpha=0.5)\n",
    "# output_file(\"timeseries.html\")\n",
    "# show(p)"
   ]
  },
  {
   "cell_type": "code",
   "execution_count": 10,
   "metadata": {},
   "outputs": [],
   "source": [
    "# dir(figure())"
   ]
  },
  {
   "cell_type": "code",
   "execution_count": null,
   "metadata": {},
   "outputs": [],
   "source": []
  }
 ],
 "metadata": {
  "kernelspec": {
   "display_name": "Python 3",
   "language": "python",
   "name": "python3"
  },
  "language_info": {
   "codemirror_mode": {
    "name": "ipython",
    "version": 3
   },
   "file_extension": ".py",
   "mimetype": "text/x-python",
   "name": "python",
   "nbconvert_exporter": "python",
   "pygments_lexer": "ipython3",
   "version": "3.7.1"
  }
 },
 "nbformat": 4,
 "nbformat_minor": 2
}
